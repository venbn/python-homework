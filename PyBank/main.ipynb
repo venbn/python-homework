{
 "cells": [
  {
   "cell_type": "code",
   "execution_count": 98,
   "id": "92eb9731",
   "metadata": {},
   "outputs": [
    {
     "name": "stdout",
     "output_type": "stream",
     "text": [
      "Total Months: 86\n",
      "Total: $38382578\n",
      "Average change: $446309.05\n",
      "Greatest Increase in profits: Feb-2012 ($1926159)\n",
      "Greatest Decrease in profits: Sep-2013 ($-2196167)\n"
     ]
    }
   ],
   "source": [
    "import os\n",
    "import csv\n",
    "import numpy as npy\n",
    "\n",
    "month_count=0\n",
    "profit_losses=0\n",
    "total_profit_losses=0\n",
    "average_change=0\n",
    "max_profits=0\n",
    "max_losses=0\n",
    "pl=0\n",
    "losses_month=\"\"\n",
    "profit_month=\"\"\n",
    "line_num=0\n",
    "profit_increase=0\n",
    "hdr=0\n",
    "fmp=0\n",
    "pr=0\n",
    "plfm=0\n",
    "\n",
    "bd_csv=(\"/Users/vbn/Desktop/VenGitRepo/python-homework/PyBank/budget_data.csv\")\n",
    "\n",
    "with open(bd_csv,'r') as bd_csv:\n",
    "    csvreader=csv.reader(bd_csv,delimiter=\",\")    \n",
    "    hdr=next(csvreader)\n",
    "    fr=next(csvreader)\n",
    "    fmp=int(fr[1])\n",
    "    month_count+=1\n",
    "    plfm=int(fr[1])\n",
    "    \n",
    "    for line in csvreader:\n",
    "    \n",
    "        month_count+=1\n",
    "        profit_losses=plfm+int(line[1])\n",
    "        total_profit_losses+=profit_losses\n",
    "        plfm=0\n",
    "        \n",
    "       # Maximum profits and losses\n",
    "        \n",
    "        pr=int(line[1])\n",
    "        pi=int(pr)-int(fmp)\n",
    "        fmp=pr\n",
    "        \n",
    "        if max_losses == 0:\n",
    "            max_losses=pi\n",
    "        elif max_losses>pi:\n",
    "            max_losses=pi\n",
    "            losses_month=line[0]\n",
    "        elif max_profits<pi:\n",
    "            max_profits=pi\n",
    "            profit_month=line[0]\n",
    "    \n",
    "    average_change=(total_profit_losses/month_count)\n",
    "    format_average_change=\"{:.2f}\".format(average_change)\n",
    "    print(f\"Total Months: {month_count}\")\n",
    "    print(f\"Total: ${total_profit_losses}\")\n",
    "    print(f\"Average change: ${format_average_change}\")\n",
    "    print(f\"Greatest Increase in profits: {profit_month} (${max_profits})\")\n",
    "    print(f\"Greatest Decrease in profits: {losses_month} (${max_losses})\")\n"
   ]
  },
  {
   "cell_type": "code",
   "execution_count": null,
   "id": "69a0773a",
   "metadata": {},
   "outputs": [],
   "source": []
  },
  {
   "cell_type": "code",
   "execution_count": null,
   "id": "9ab79f51",
   "metadata": {},
   "outputs": [],
   "source": []
  },
  {
   "cell_type": "code",
   "execution_count": null,
   "id": "35010722",
   "metadata": {},
   "outputs": [],
   "source": []
  }
 ],
 "metadata": {
  "kernelspec": {
   "display_name": "Python 3 (ipykernel)",
   "language": "python",
   "name": "python3"
  },
  "language_info": {
   "codemirror_mode": {
    "name": "ipython",
    "version": 3
   },
   "file_extension": ".py",
   "mimetype": "text/x-python",
   "name": "python",
   "nbconvert_exporter": "python",
   "pygments_lexer": "ipython3",
   "version": "3.10.6"
  }
 },
 "nbformat": 4,
 "nbformat_minor": 5
}
